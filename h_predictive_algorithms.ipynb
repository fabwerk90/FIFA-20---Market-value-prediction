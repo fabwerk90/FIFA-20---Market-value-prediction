{
 "cells": [
  {
   "cell_type": "code",
   "execution_count": 1,
   "metadata": {
    "ExecuteTime": {
     "end_time": "2020-05-05T15:41:59.013687Z",
     "start_time": "2020-05-05T15:41:57.870346Z"
    }
   },
   "outputs": [],
   "source": [
    "import pandas as pd\n",
    "import numpy as np\n",
    "import matplotlib\n",
    "import matplotlib.pyplot as plt\n",
    "import seaborn as sns"
   ]
  },
  {
   "cell_type": "code",
   "execution_count": 2,
   "metadata": {
    "ExecuteTime": {
     "end_time": "2020-05-05T15:41:59.230079Z",
     "start_time": "2020-05-05T15:41:59.015653Z"
    }
   },
   "outputs": [],
   "source": [
    "df_fp = pd.read_csv(\"data/fp_data_final.csv\", index_col=0)\n",
    "df_gk = pd.read_csv(\"data/gk_data_final.csv\", index_col=0)\n",
    "pd.set_option('display.max_columns', None)"
   ]
  },
  {
   "cell_type": "code",
   "execution_count": 3,
   "metadata": {
    "ExecuteTime": {
     "end_time": "2020-05-05T15:41:59.238058Z",
     "start_time": "2020-05-05T15:41:59.233071Z"
    }
   },
   "outputs": [],
   "source": [
    "# set random seed for all algos\n",
    "rseed = 42"
   ]
  },
  {
   "cell_type": "code",
   "execution_count": 4,
   "metadata": {
    "ExecuteTime": {
     "end_time": "2020-05-05T15:41:59.250025Z",
     "start_time": "2020-05-05T15:41:59.241050Z"
    }
   },
   "outputs": [],
   "source": [
    "# suppress scientific notation\n",
    "pd.options.display.float_format = '{:.2f}'.format\n",
    "np.set_printoptions(suppress=True)"
   ]
  },
  {
   "cell_type": "markdown",
   "metadata": {},
   "source": [
    "### Prepare datasets for prediction | general"
   ]
  },
  {
   "cell_type": "code",
   "execution_count": 5,
   "metadata": {
    "ExecuteTime": {
     "end_time": "2020-05-05T15:41:59.267979Z",
     "start_time": "2020-05-05T15:41:59.252021Z"
    }
   },
   "outputs": [],
   "source": [
    "# drop irrelevant rows\n",
    "\n",
    "df_fp = df_fp.drop([\"player_name\",\"long_name\",\"year_of_birth\",\"height_cm\",\"weight_kg\",\"nationality\",\"club\"],axis=1)\n",
    "\n",
    "df_gk = df_gk.drop([\"player_name\",\"long_name\",\"year_of_birth\",\"height_cm\",\"weight_kg\",\"nationality\",\"club\"],axis=1)"
   ]
  },
  {
   "cell_type": "markdown",
   "metadata": {},
   "source": [
    "### Vorgehensweise\n",
    "1. Für finalen Test --> Test-Set wegpacken\n",
    "2. Mit train_set train-test-split und predicten\n",
    "3. Final mit test_set_final predicten"
   ]
  },
  {
   "cell_type": "code",
   "execution_count": 6,
   "metadata": {
    "ExecuteTime": {
     "end_time": "2020-05-05T15:41:59.291914Z",
     "start_time": "2020-05-05T15:41:59.269974Z"
    }
   },
   "outputs": [
    {
     "name": "stdout",
     "output_type": "stream",
     "text": [
      "Fieldplayers: \n",
      "(8598, 54)\n",
      "(2149,)\n",
      "-----------------------\n",
      "Goalkeepers: \n",
      "(1110, 37)\n",
      "(277,)\n"
     ]
    }
   ],
   "source": [
    "# 1. put final test set aside\n",
    "\n",
    "# fieldplayers\n",
    "train_set_fp = df_fp.sample(frac=0.80, random_state=rseed)\n",
    "y_final_fp = df_fp.drop(train_set_fp.index)\n",
    "y_final_fp = y_final_fp[\"market_value_in_euro\"]\n",
    "\n",
    "# goal keepers\n",
    "train_set_gk = df_gk.sample(frac=0.80, random_state=rseed)\n",
    "y_final_gk = df_gk.drop(train_set_gk.index)\n",
    "y_final_gk = y_final_gk[\"market_value_in_euro\"]\n",
    "\n",
    "print(\"Fieldplayers: \")\n",
    "print(train_set_fp.shape)\n",
    "print(y_final_fp.shape)\n",
    "print(\"-----------------------\")\n",
    "print(\"Goalkeepers: \")\n",
    "print(train_set_gk.shape)\n",
    "print(y_final_gk.shape)"
   ]
  },
  {
   "cell_type": "markdown",
   "metadata": {},
   "source": [
    "# Define Pipelines"
   ]
  },
  {
   "cell_type": "markdown",
   "metadata": {},
   "source": [
    "## Identify best models \n",
    "\n",
    "Regressors to be used:\n",
    "1. Linear Regression\n",
    "6. Stochastic Gradient Descent\n",
    "7. Decision Trees\n",
    "8. Random Forest\n",
    "9. AdaBoost\n",
    "10. Gradient Tree Boosting\n",
    "11. XGBoost\n"
   ]
  },
  {
   "cell_type": "code",
   "execution_count": 26,
   "metadata": {
    "ExecuteTime": {
     "end_time": "2020-05-05T15:59:17.780223Z",
     "start_time": "2020-05-05T15:59:17.765234Z"
    },
    "code_folding": [
     0
    ]
   },
   "outputs": [],
   "source": [
    "def model_selection (train_set):\n",
    "\n",
    "    ###################################\n",
    "    # 2.1. train-test-split with remaining 80% of data\n",
    "    ###################################\n",
    "\n",
    "    from sklearn.model_selection import train_test_split\n",
    "\n",
    "    X = train_set.drop([\"market_value_in_euro\"],axis=1)\n",
    "\n",
    "    y = train_set[\"market_value_in_euro\"]\n",
    "\n",
    "    X_train, X_test, y_train, y_test = train_test_split(X, y, test_size=0.2, random_state=rseed)\n",
    "\n",
    "    ###################################\n",
    "    # 2.2. Build preprocessing pipeline with\n",
    "    # - standard scaler\n",
    "    # - onehotencoder\n",
    "    ###################################\n",
    "\n",
    "    from sklearn.pipeline import Pipeline\n",
    "    from sklearn.preprocessing import StandardScaler, OneHotEncoder\n",
    "\n",
    "    numeric_transformer = Pipeline(steps=[\n",
    "        ('scaler', StandardScaler())])\n",
    "\n",
    "    categorical_transformer = Pipeline(steps=[\n",
    "        ('onehot', OneHotEncoder(handle_unknown='ignore'))])\n",
    "\n",
    "    ###################################\n",
    "    # 2.3. Apply column transformer\n",
    "    ###################################\n",
    "\n",
    "    from sklearn.compose import ColumnTransformer\n",
    "\n",
    "    numeric_features = train_set.select_dtypes(include=['int64', 'float64']).drop([\"market_value_in_euro\"],axis=1).columns\n",
    "    categorical_features = train_set.select_dtypes(include=['object']).columns\n",
    "\n",
    "    preprocessor = ColumnTransformer(\n",
    "        transformers=[\n",
    "            ('num', numeric_transformer, numeric_features),\n",
    "            ('cat', categorical_transformer, categorical_features)])\n",
    "\n",
    "    ###################################\n",
    "    # 2.4. Fit algorithms\n",
    "    ###################################\n",
    "\n",
    "    from sklearn import linear_model\n",
    "    from sklearn import svm\n",
    "    from sklearn import tree\n",
    "    from sklearn.ensemble import RandomForestRegressor\n",
    "    from sklearn.ensemble import AdaBoostRegressor\n",
    "    from sklearn.ensemble import GradientBoostingRegressor\n",
    "    import xgboost as xgb\n",
    "    \n",
    "\n",
    "    models = []\n",
    "    models.append((\"LR\",linear_model.LinearRegression()))\n",
    "    models.append((\"SGD\",linear_model.SGDRegressor(random_state=rseed)))\n",
    "    models.append((\"DT\",tree.DecisionTreeRegressor(random_state=rseed)))\n",
    "    models.append((\"RF\",RandomForestRegressor(random_state=rseed,n_jobs=-1)))\n",
    "    models.append((\"ADA\",AdaBoostRegressor(random_state=rseed)))\n",
    "    models.append((\"GDB\",GradientBoostingRegressor(random_state=rseed)))\n",
    "    models.append((\"XGB\",xgb.XGBRegressor(random_state=rseed)))\n",
    "    \n",
    "\n",
    "    results = []\n",
    "    names = []\n",
    "    scoring = 'neg_root_mean_squared_error'\n",
    "    \n",
    "    for name,regressor in models:\n",
    "        pipe = Pipeline(steps=[('preprocessor', preprocessor),\n",
    "                          ('regressor', regressor)])\n",
    "        pipe.fit(X_train, y_train)\n",
    "        \n",
    "        y_pred = pipe.predict(X_test)\n",
    "    \n",
    "        ###################################\n",
    "        # 2.5. Calculate comparison metric (MRSE) and visualize comparison\n",
    "        ###################################\n",
    "\n",
    "        from sklearn.metrics import mean_squared_error\n",
    "        \n",
    "        import math\n",
    "        from math import sqrt\n",
    "        \n",
    "        from sklearn import model_selection\n",
    "        from sklearn.model_selection import cross_val_score\n",
    "\n",
    "        \n",
    "        \n",
    "        kfold = model_selection.KFold(n_splits=5, random_state=rseed, shuffle=True)\n",
    "        cv_results = abs(model_selection.cross_val_score(pipe, X, y, cv=kfold, scoring=scoring))\n",
    "        cv_mean = math.ceil(cv_results.mean())\n",
    "        cv_std = math.ceil(cv_results.std())\n",
    "        results.append(cv_results)\n",
    "        names.append(name)\n",
    "        print(f\"{name}: \", f\"{cv_mean:0,}\", f\"({cv_std:0,})\")\n",
    "\n",
    "    # boxplot algorithm comparison\n",
    "    fig = plt.figure()\n",
    "    fig.suptitle('Algorithm Comparison')\n",
    "    ax = fig.add_subplot(111)\n",
    "    plt.boxplot(results)\n",
    "    ax.set_xticklabels(names)\n",
    "    plt.show()"
   ]
  },
  {
   "cell_type": "code",
   "execution_count": 27,
   "metadata": {
    "ExecuteTime": {
     "end_time": "2020-05-05T16:00:51.918389Z",
     "start_time": "2020-05-05T15:59:18.834653Z"
    }
   },
   "outputs": [
    {
     "name": "stdout",
     "output_type": "stream",
     "text": [
      "LR:  2,518,939 (81,314)\n",
      "SGD:  2,524,106 (81,601)\n",
      "DT:  2,696,631 (136,046)\n",
      "RF:  1,934,319 (90,223)\n",
      "ADA:  3,953,392 (205,402)\n",
      "GDB:  1,878,969 (121,475)\n",
      "[18:00:43] WARNING: src/objective/regression_obj.cu:152: reg:linear is now deprecated in favor of reg:squarederror.\n"
     ]
    },
    {
     "name": "stderr",
     "output_type": "stream",
     "text": [
      "C:\\Users\\Fabian\\Anaconda3\\envs\\nf\\lib\\site-packages\\xgboost\\core.py:587: FutureWarning: Series.base is deprecated and will be removed in a future version\n",
      "  if getattr(data, 'base', None) is not None and \\\n",
      "C:\\Users\\Fabian\\Anaconda3\\envs\\nf\\lib\\site-packages\\xgboost\\core.py:587: FutureWarning: Series.base is deprecated and will be removed in a future version\n",
      "  if getattr(data, 'base', None) is not None and \\\n"
     ]
    },
    {
     "name": "stdout",
     "output_type": "stream",
     "text": [
      "[18:00:44] WARNING: src/objective/regression_obj.cu:152: reg:linear is now deprecated in favor of reg:squarederror.\n"
     ]
    },
    {
     "name": "stderr",
     "output_type": "stream",
     "text": [
      "C:\\Users\\Fabian\\Anaconda3\\envs\\nf\\lib\\site-packages\\xgboost\\core.py:587: FutureWarning: Series.base is deprecated and will be removed in a future version\n",
      "  if getattr(data, 'base', None) is not None and \\\n"
     ]
    },
    {
     "name": "stdout",
     "output_type": "stream",
     "text": [
      "[18:00:46] WARNING: src/objective/regression_obj.cu:152: reg:linear is now deprecated in favor of reg:squarederror.\n"
     ]
    },
    {
     "name": "stderr",
     "output_type": "stream",
     "text": [
      "C:\\Users\\Fabian\\Anaconda3\\envs\\nf\\lib\\site-packages\\xgboost\\core.py:587: FutureWarning: Series.base is deprecated and will be removed in a future version\n",
      "  if getattr(data, 'base', None) is not None and \\\n"
     ]
    },
    {
     "name": "stdout",
     "output_type": "stream",
     "text": [
      "[18:00:47] WARNING: src/objective/regression_obj.cu:152: reg:linear is now deprecated in favor of reg:squarederror.\n"
     ]
    },
    {
     "name": "stderr",
     "output_type": "stream",
     "text": [
      "C:\\Users\\Fabian\\Anaconda3\\envs\\nf\\lib\\site-packages\\xgboost\\core.py:587: FutureWarning: Series.base is deprecated and will be removed in a future version\n",
      "  if getattr(data, 'base', None) is not None and \\\n"
     ]
    },
    {
     "name": "stdout",
     "output_type": "stream",
     "text": [
      "[18:00:49] WARNING: src/objective/regression_obj.cu:152: reg:linear is now deprecated in favor of reg:squarederror.\n"
     ]
    },
    {
     "name": "stderr",
     "output_type": "stream",
     "text": [
      "C:\\Users\\Fabian\\Anaconda3\\envs\\nf\\lib\\site-packages\\xgboost\\core.py:587: FutureWarning: Series.base is deprecated and will be removed in a future version\n",
      "  if getattr(data, 'base', None) is not None and \\\n"
     ]
    },
    {
     "name": "stdout",
     "output_type": "stream",
     "text": [
      "[18:00:50] WARNING: src/objective/regression_obj.cu:152: reg:linear is now deprecated in favor of reg:squarederror.\n",
      "XGB:  1,858,716 (120,307)\n"
     ]
    },
    {
     "data": {
      "image/png": "[encoded data removed]",
      "text/plain": [
       "<Figure size 432x288 with 1 Axes>"
      ]
     },
     "metadata": {
      "needs_background": "light"
     },
     "output_type": "display_data"
    }
   ],
   "source": [
    "model_selection (train_set_fp)"
   ]
  },
  {
   "cell_type": "markdown",
   "metadata": {},
   "source": [
    "###### --> best 3 algorithms are Random Forests, GDBoost and XGBoost"
   ]
  },
  {
   "cell_type": "code",
   "execution_count": 42,
   "metadata": {
    "ExecuteTime": {
     "end_time": "2020-05-05T16:49:30.875663Z",
     "start_time": "2020-05-05T16:49:30.851723Z"
    },
    "code_folding": []
   },
   "outputs": [],
   "source": [
    "def best_algos_pipeline (train_set):\n",
    "\n",
    "    ###################################\n",
    "    # 2.1. train-test-split with remaining 80% of data\n",
    "    ###################################\n",
    "\n",
    "    from sklearn.model_selection import train_test_split\n",
    "\n",
    "    X = train_set.drop([\"market_value_in_euro\"],axis=1)\n",
    "\n",
    "    y = train_set[\"market_value_in_euro\"]\n",
    "\n",
    "    X_train, X_test, y_train, y_test = train_test_split(X, y, test_size=0.2, random_state=rseed)\n",
    "\n",
    "    ###################################\n",
    "    # 2.2. Build preprocessing pipeline with\n",
    "    # - a scaler for numerical columns\n",
    "    # - an encoder for categorical columns\n",
    "    ###################################\n",
    "\n",
    "    from sklearn.pipeline import Pipeline\n",
    "    from sklearn.preprocessing import StandardScaler, OneHotEncoder\n",
    "\n",
    "    numeric_transformer = Pipeline(steps=[\n",
    "        ('scaler', StandardScaler())])\n",
    "\n",
    "    categorical_transformer = Pipeline(steps=[\n",
    "        ('onehot', OneHotEncoder(handle_unknown='ignore'))])\n",
    "\n",
    "    ###################################\n",
    "    # 2.3. Apply column transformer\n",
    "    ###################################\n",
    "\n",
    "    from sklearn.compose import ColumnTransformer\n",
    "\n",
    "    numeric_features = train_set.select_dtypes(include=['int64', 'float64']).drop([\"market_value_in_euro\"],axis=1).columns\n",
    "    categorical_features = train_set.select_dtypes(include=['object']).columns\n",
    "\n",
    "    preprocessor = ColumnTransformer(\n",
    "        transformers=[\n",
    "            ('num', numeric_transformer, numeric_features),\n",
    "            ('cat', categorical_transformer, categorical_features)])\n",
    "\n",
    "    ###################################\n",
    "    # 2.4. Fit algorithms\n",
    "    ###################################\n",
    "\n",
    "    from sklearn.ensemble import RandomForestRegressor\n",
    "    from sklearn.ensemble import GradientBoostingRegressor\n",
    "    import xgboost as xgb\n",
    "    \n",
    "\n",
    "    models = []\n",
    "    models.append((\"Random Forest\",RandomForestRegressor(random_state=rseed,n_jobs=-1)))\n",
    "    models.append((\"Gradient Boost\",GradientBoostingRegressor(random_state=rseed)))\n",
    "    models.append((\"XGBoost\",xgb.XGBRegressor(random_state=rseed)))\n",
    "    \n",
    "\n",
    "    \n",
    "    for name,regressor in models:\n",
    "        pipe = Pipeline(steps=[('preprocessor', preprocessor),\n",
    "                          ('regressor', regressor)])\n",
    "        \n",
    "        param_grid = {\n",
    "            'regressor__n_estimators': [200, 500],\n",
    "            'regressor__max_features': ['auto', 'sqrt', 'log2'],\n",
    "            'regressor__max_depth' : [4,5,6,7,8],}\n",
    "        \n",
    "        from sklearn.model_selection import GridSearchCV\n",
    "        \n",
    "        CV = GridSearchCV(pipe, param_grid, n_jobs= 1)\n",
    "        CV.fit(X_train, y_train)  \n",
    "        \n",
    "        y_pred = CV.predict(X_test)\n",
    "    \n",
    "        ###################################\n",
    "        # 2.5. Calculate following metrics for each model with simple train-test-split and with cv\n",
    "        # a. MSE\n",
    "        # b. MRSE\n",
    "        # c. MAE\n",
    "        # d. R²\n",
    "        # e. Adjusted R²\n",
    "        ###################################\n",
    "\n",
    "        from sklearn.metrics import mean_squared_error\n",
    "        from sklearn.metrics import mean_absolute_error\n",
    "        from sklearn.metrics import r2_score\n",
    "        \n",
    "        import math\n",
    "        from math import sqrt\n",
    "        \n",
    "        from sklearn import model_selection\n",
    "        from sklearn.model_selection import cross_val_score\n",
    "        \n",
    "        \n",
    "        kfold = model_selection.KFold(n_splits=5, random_state=rseed, shuffle=True)\n",
    "        \n",
    "        # a\n",
    "        mse = math.ceil(mean_squared_error(y_test, y_pred))\n",
    "        cv_mse = cross_val_score(pipe, X, y, cv=kfold, scoring=\"neg_mean_squared_error\",n_jobs=-1)\n",
    "        cv_mse_mean = math.ceil(abs(cv_mse.mean()))\n",
    "       \n",
    "        # b\n",
    "        mrse = math.ceil(sqrt(mse))\n",
    "        cv_mrse = cross_val_score(pipe, X, y, cv=kfold, scoring=\"neg_root_mean_squared_error\",n_jobs=-1)\n",
    "        cv_mrse_mean = math.ceil(abs(cv_mrse.mean()))\n",
    "        \n",
    "        # c\n",
    "        mae = math.ceil(mean_absolute_error(y_test, y_pred))\n",
    "        cv_mae = cross_val_score(pipe, X, y, cv=kfold, scoring=\"neg_mean_absolute_error\",n_jobs=-1)\n",
    "        cv_mae_mean = math.ceil(abs(cv_mae.mean()))\n",
    "        \n",
    "        # d\n",
    "        r_squared = round(r2_score(y_test, y_pred),3)\n",
    "        cv_r_squared = cross_val_score(pipe, X, y, cv=kfold, scoring=\"r2\",n_jobs=-1)\n",
    "        cv_r_squared_mean = round((cv_r_squared.mean()),3)\n",
    "        \n",
    "        # e\n",
    "        n = train_set.shape[0]\n",
    "        p = len(train_set.columns)\n",
    "        adjusted_r_squared = round((1-(1-r_squared)*(n-1)/(n-p-1)),3)\n",
    "        cv_adjusted_r_squared = round((1-(1-cv_r_squared_mean)*(n-1)/(n-p-1)),3)\n",
    "        \n",
    "        ###################################\n",
    "        # 2.6. Print results\n",
    "        ###################################\n",
    "      \n",
    "          \n",
    "        from prettytable import PrettyTable\n",
    "        ptable = PrettyTable()\n",
    "\n",
    "        ptable.field_names = [\"Metric\", \"Score on test set\", \"Score on test set with 5 k-fold CV \"]\n",
    "        ptable.add_row([\"MSE\",f\"{mse:0,}\",f\"{cv_mse_mean:0,}\"])\n",
    "        ptable.add_row([\"MRSE\",f\"{mrse:0,}\",f\"{cv_mrse_mean:0,}\"])\n",
    "        ptable.add_row([\"MAE\",f\"{mae:0,}\",f\"{cv_mae_mean:0,}\"])\n",
    "        ptable.add_row([\"r_squared\",r_squared,cv_r_squared_mean])\n",
    "        ptable.add_row([\"adjusted_r_squared\",adjusted_r_squared,cv_adjusted_r_squared])\n",
    "        \n",
    "        print(\"----------------------------------------------------------------------------------------------------------\")\n",
    "        print(\"\\033[1m\",name,\"\\033[0m\")\n",
    "        print(\"----------------------------------------------------------------------------------------------------------\")\n",
    "        print (ptable)\n",
    "        ###################################\n",
    "        # 2.5. Print results\n",
    "        ###################################\n",
    "        from yellowbrick.regressor import residuals_plot\n",
    "        from yellowbrick.datasets import load_concrete\n",
    "\n",
    "        # Visualization of residuals\n",
    "        viz = residuals_plot(pipe, X_train, y_train, X_test, y_test)"
   ]
  },
  {
   "cell_type": "code",
   "execution_count": null,
   "metadata": {
    "ExecuteTime": {
     "start_time": "2020-05-05T16:49:31.306Z"
    },
    "scrolled": false
   },
   "outputs": [],
   "source": [
    "best_algos_pipeline (train_set_fp)"
   ]
  },
  {
   "cell_type": "code",
   "execution_count": null,
   "metadata": {},
   "outputs": [],
   "source": []
  },
  {
   "cell_type": "markdown",
   "metadata": {},
   "source": [
    "# todos\n",
    "\n",
    "- different scalers\n",
    "- different encoder?\n",
    "- gridsearch\n",
    "- features importances --> feature engineering and adjustments to dataset --> recursive feature elimination"
   ]
  },
  {
   "cell_type": "code",
   "execution_count": null,
   "metadata": {},
   "outputs": [],
   "source": []
  }
 ],
 "metadata": {
  "kernelspec": {
   "display_name": "Python [conda env:nf] *",
   "language": "python",
   "name": "conda-env-nf-py"
  },
  "language_info": {
   "codemirror_mode": {
    "name": "ipython",
    "version": 3
   },
   "file_extension": ".py",
   "mimetype": "text/x-python",
   "name": "python",
   "nbconvert_exporter": "python",
   "pygments_lexer": "ipython3",
   "version": "3.6.10"
  },
  "toc": {
   "base_numbering": 1,
   "nav_menu": {},
   "number_sections": true,
   "sideBar": true,
   "skip_h1_title": false,
   "title_cell": "Table of Contents",
   "title_sidebar": "Contents",
   "toc_cell": false,
   "toc_position": {},
   "toc_section_display": true,
   "toc_window_display": false
  }
 },
 "nbformat": 4,
 "nbformat_minor": 4
}
