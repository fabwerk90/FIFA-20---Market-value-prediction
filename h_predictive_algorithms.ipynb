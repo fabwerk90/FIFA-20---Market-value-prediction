{
 "cells": [
  {
   "cell_type": "code",
   "execution_count": 1,
   "metadata": {},
   "outputs": [],
   "source": [
    "import pandas as pd\n",
    "import numpy as np\n",
    "import matplotlib\n",
    "import matplotlib.pyplot as plt\n",
    "import seaborn as sns"
   ]
  },
  {
   "cell_type": "code",
   "execution_count": 2,
   "metadata": {},
   "outputs": [],
   "source": [
    "df_fp = pd.read_csv(\"data/fp_data_final.csv\", index_col=0)\n",
    "df_gk = pd.read_csv(\"data/gk_data_final.csv\", index_col=0)\n",
    "pd.set_option('display.max_columns', None)"
   ]
  },
  {
   "cell_type": "code",
   "execution_count": 3,
   "metadata": {},
   "outputs": [],
   "source": [
    "# set random seed for all algos\n",
    "rseed = 42"
   ]
  },
  {
   "cell_type": "code",
   "execution_count": 4,
   "metadata": {},
   "outputs": [],
   "source": [
    "# suppress scientific notation\n",
    "pd.options.display.float_format = '{:.2f}'.format\n",
    "np.set_printoptions(suppress=True)"
   ]
  },
  {
   "cell_type": "markdown",
   "metadata": {},
   "source": [
    "### Prepare datasets for prediction | general"
   ]
  },
  {
   "cell_type": "code",
   "execution_count": 5,
   "metadata": {},
   "outputs": [],
   "source": [
    "# drop irrelevant rows\n",
    "\n",
    "df_fp = df_fp.drop([\"player_name\",\"long_name\",\"year_of_birth\",\"height_cm\",\"weight_kg\",\"nationality\",\"club\"],axis=1)\n",
    "\n",
    "df_gk = df_gk.drop([\"player_name\",\"long_name\",\"year_of_birth\",\"height_cm\",\"weight_kg\",\"nationality\",\"club\"],axis=1)"
   ]
  },
  {
   "cell_type": "markdown",
   "metadata": {},
   "source": [
    "### Vorgehensweise\n",
    "1. Für finalen Test --> Test-Set wegpacken\n",
    "2. Mit train_set train-test-split und predicten\n",
    "3. Final mit test_set_final predicten"
   ]
  },
  {
   "cell_type": "code",
   "execution_count": 6,
   "metadata": {},
   "outputs": [
    {
     "name": "stdout",
     "output_type": "stream",
     "text": [
      "Fieldplayers: \n",
      "(8598, 54)\n",
      "(2149,)\n",
      "-----------------------\n",
      "Goalkeepers: \n",
      "(1110, 37)\n",
      "(277,)\n"
     ]
    }
   ],
   "source": [
    "# 1. put final test set aside\n",
    "\n",
    "# fieldplayers\n",
    "train_set_fp = df_fp.sample(frac=0.80, random_state=rseed)\n",
    "y_final_fp = df_fp.drop(train_set_fp.index)\n",
    "y_final_fp = y_final_fp[\"market_value_in_euro\"]\n",
    "\n",
    "# goal keepers\n",
    "train_set_gk = df_gk.sample(frac=0.80, random_state=rseed)\n",
    "y_final_gk = df_gk.drop(train_set_gk.index)\n",
    "y_final_gk = y_final_gk[\"market_value_in_euro\"]\n",
    "\n",
    "print(\"Fieldplayers: \")\n",
    "print(train_set_fp.shape)\n",
    "print(y_final_fp.shape)\n",
    "print(\"-----------------------\")\n",
    "print(\"Goalkeepers: \")\n",
    "print(train_set_gk.shape)\n",
    "print(y_final_gk.shape)"
   ]
  },
  {
   "cell_type": "markdown",
   "metadata": {},
   "source": [
    "# define pipeline"
   ]
  },
  {
   "cell_type": "markdown",
   "metadata": {},
   "source": [
    "### Regressors to be used:\n",
    "1. Linear Regression\n",
    "6. Stochastic Gradient Descent\n",
    "7. Decision Trees\n",
    "8. Random Forest\n",
    "9. AdaBoost\n",
    "10. Gradient Tree Boosting\n",
    "11. XGBoost\n"
   ]
  },
  {
   "cell_type": "code",
   "execution_count": 9,
   "metadata": {
    "code_folding": []
   },
   "outputs": [],
   "source": [
    "def algo_pipeline (train_set):\n",
    "\n",
    "    ###################################\n",
    "    # 2.1. train-test-split with remaining 80% of data\n",
    "    ###################################\n",
    "\n",
    "    from sklearn.model_selection import train_test_split\n",
    "\n",
    "    X = train_set.drop([\"market_value_in_euro\"],axis=1)\n",
    "\n",
    "    y = train_set[\"market_value_in_euro\"]\n",
    "\n",
    "    X_train, X_test, y_train, y_test = train_test_split(X, y, test_size=0.2, random_state=rseed)\n",
    "\n",
    "    ###################################\n",
    "    # 2.2. Build preprocessing pipeline with\n",
    "    # - standard scaler\n",
    "    # - onehotencoder\n",
    "    ###################################\n",
    "\n",
    "    from sklearn.pipeline import Pipeline\n",
    "    from sklearn.preprocessing import StandardScaler, OneHotEncoder\n",
    "\n",
    "    numeric_transformer = Pipeline(steps=[\n",
    "        ('scaler', StandardScaler())])\n",
    "\n",
    "    categorical_transformer = Pipeline(steps=[\n",
    "        ('onehot', OneHotEncoder(handle_unknown='ignore'))])\n",
    "\n",
    "    ###################################\n",
    "    # 2.3. Apply column transformer\n",
    "    ###################################\n",
    "\n",
    "    from sklearn.compose import ColumnTransformer\n",
    "\n",
    "    numeric_features = train_set.select_dtypes(include=['int64', 'float64']).drop([\"market_value_in_euro\"],axis=1).columns\n",
    "    categorical_features = train_set.select_dtypes(include=['object']).columns\n",
    "\n",
    "    preprocessor = ColumnTransformer(\n",
    "        transformers=[\n",
    "            ('num', numeric_transformer, numeric_features),\n",
    "            ('cat', categorical_transformer, categorical_features)])\n",
    "\n",
    "    ###################################\n",
    "    # 2.4. Fit algorithms\n",
    "    ###################################\n",
    "\n",
    "    from sklearn import linear_model\n",
    "    from sklearn import svm\n",
    "    from sklearn import tree\n",
    "    from sklearn.ensemble import RandomForestRegressor\n",
    "    from sklearn.ensemble import AdaBoostRegressor\n",
    "    from sklearn.ensemble import GradientBoostingRegressor\n",
    "    import xgboost as xgb\n",
    "    \n",
    "\n",
    "    regressors = [\n",
    "    linear_model.LinearRegression(),\n",
    "    linear_model.SGDRegressor(random_state=rseed),\n",
    "    tree.DecisionTreeRegressor(random_state=rseed),\n",
    "    RandomForestRegressor(random_state=rseed),\n",
    "    AdaBoostRegressor(random_state=rseed),\n",
    "    GradientBoostingRegressor(random_state=rseed),\n",
    "    xgb.XGBRegressor(random_state=rseed)\n",
    "    ]\n",
    "    \n",
    "    for regressor in regressors:\n",
    "        pipe = Pipeline(steps=[('preprocessor', preprocessor),\n",
    "                          ('regressor', regressor)])\n",
    "        pipe.fit(X_train, y_train)\n",
    "        \n",
    "        y_pred = pipe.predict(X_test)\n",
    "    \n",
    "    \n",
    "        ###################################\n",
    "        # 2.5. Print results\n",
    "        ###################################\n",
    "        from sklearn.ensemble import RandomForestRegressor\n",
    "        from sklearn.model_selection import train_test_split as tts\n",
    "        from yellowbrick.regressor import residuals_plot\n",
    "        from yellowbrick.datasets import load_concrete\n",
    "\n",
    "        # Create the visualizer, fit, score, and show it\n",
    "        viz = residuals_plot(regressor, X_train, y_train, X_test, y_test)"
   ]
  },
  {
   "cell_type": "code",
   "execution_count": 10,
   "metadata": {
    "scrolled": true
   },
   "outputs": [
    {
     "ename": "ModuleNotFoundError",
     "evalue": "No module named 'yellowbrick'",
     "output_type": "error",
     "traceback": [
      "\u001b[1;31m---------------------------------------------------------------------------\u001b[0m",
      "\u001b[1;31mModuleNotFoundError\u001b[0m                       Traceback (most recent call last)",
      "\u001b[1;32m<ipython-input-10-6f19c735d35a>\u001b[0m in \u001b[0;36m<module>\u001b[1;34m\u001b[0m\n\u001b[1;32m----> 1\u001b[1;33m \u001b[0malgo_pipeline\u001b[0m \u001b[1;33m(\u001b[0m\u001b[0mtrain_set_fp\u001b[0m\u001b[1;33m)\u001b[0m\u001b[1;33m\u001b[0m\u001b[1;33m\u001b[0m\u001b[0m\n\u001b[0m",
      "\u001b[1;32m<ipython-input-9-0f586ae3f940>\u001b[0m in \u001b[0;36malgo_pipeline\u001b[1;34m(train_set)\u001b[0m\n\u001b[0;32m     78\u001b[0m         \u001b[1;32mfrom\u001b[0m \u001b[0msklearn\u001b[0m\u001b[1;33m.\u001b[0m\u001b[0mensemble\u001b[0m \u001b[1;32mimport\u001b[0m \u001b[0mRandomForestRegressor\u001b[0m\u001b[1;33m\u001b[0m\u001b[1;33m\u001b[0m\u001b[0m\n\u001b[0;32m     79\u001b[0m         \u001b[1;32mfrom\u001b[0m \u001b[0msklearn\u001b[0m\u001b[1;33m.\u001b[0m\u001b[0mmodel_selection\u001b[0m \u001b[1;32mimport\u001b[0m \u001b[0mtrain_test_split\u001b[0m \u001b[1;32mas\u001b[0m \u001b[0mtts\u001b[0m\u001b[1;33m\u001b[0m\u001b[1;33m\u001b[0m\u001b[0m\n\u001b[1;32m---> 80\u001b[1;33m         \u001b[1;32mfrom\u001b[0m \u001b[0myellowbrick\u001b[0m\u001b[1;33m.\u001b[0m\u001b[0mregressor\u001b[0m \u001b[1;32mimport\u001b[0m \u001b[0mresiduals_plot\u001b[0m\u001b[1;33m\u001b[0m\u001b[1;33m\u001b[0m\u001b[0m\n\u001b[0m\u001b[0;32m     81\u001b[0m         \u001b[1;32mfrom\u001b[0m \u001b[0myellowbrick\u001b[0m\u001b[1;33m.\u001b[0m\u001b[0mdatasets\u001b[0m \u001b[1;32mimport\u001b[0m \u001b[0mload_concrete\u001b[0m\u001b[1;33m\u001b[0m\u001b[1;33m\u001b[0m\u001b[0m\n\u001b[0;32m     82\u001b[0m \u001b[1;33m\u001b[0m\u001b[0m\n",
      "\u001b[1;31mModuleNotFoundError\u001b[0m: No module named 'yellowbrick'"
     ]
    }
   ],
   "source": [
    "algo_pipeline (train_set_fp)"
   ]
  },
  {
   "cell_type": "code",
   "execution_count": null,
   "metadata": {
    "code_folding": []
   },
   "outputs": [],
   "source": [
    "        ###################################\n",
    "        # 2.5. Test model with following metrics\n",
    "        # a. MSE\n",
    "        # b. MRSE\n",
    "        # c. MAE\n",
    "        # d. MAPE\n",
    "        # e. R²\n",
    "        # f. Adjusted R²\n",
    "        ###################################\n",
    "\n",
    "        from sklearn.metrics import mean_squared_error\n",
    "        from sklearn.metrics import mean_absolute_error\n",
    "        from sklearn.metrics import r2_score\n",
    "        \n",
    "        import math\n",
    "        from math import sqrt\n",
    "        \n",
    "\n",
    "        mse = math.ceil(mean_squared_error(y_test, y_pred))\n",
    "        mrse = math.ceil(sqrt(mse))\n",
    "        mae = math.ceil(mean_absolute_error(y_test, y_pred))\n",
    "        mape = round((np.mean(np.abs((y_test - y_pred) / y_test)) * 100),2)\n",
    "        \n",
    "        r_squared = round(r2_score(y_test, y_pred),4)\n",
    "        \n",
    "        n = train_set.shape[0]\n",
    "        p = len(train_set.columns)\n",
    "        adjusted_r_squared = round((1-(1-r_squared)*(n-1)/(n-p-1)),4)\n",
    "        \n",
    "        ###################################\n",
    "        # 2.6. Print results\n",
    "        ###################################\n",
    "      \n",
    "          \n",
    "        from prettytable import PrettyTable\n",
    "        ptable = PrettyTable()\n",
    "\n",
    "        ptable.field_names = [\"Metric\", \"Score\"]\n",
    "        ptable.add_row([\"MSE\",f\"{mse:0,}\"])\n",
    "        ptable.add_row([\"MRSE\",f\"{mrse:0,}\"])\n",
    "        ptable.add_row([\"MAE\",f\"{mae:0,}\"])\n",
    "        ptable.add_row([\"MAPE\",f\"{mape:0,}\"])\n",
    "        ptable.add_row([\"r_squared\",r_squared])\n",
    "        ptable.add_row([\"adjusted_r_squared\",adjusted_r_squared])\n",
    "        \n",
    "        print(\"----------------------------------------------------------------------------------------------------------\")\n",
    "        print(\"------------\",regressor,\"------------\")\n",
    "        print(\"----------------------------------------------------------------------------------------------------------\")\n",
    "        print (ptable)"
   ]
  }
 ],
 "metadata": {
  "kernelspec": {
   "display_name": "Python [conda env:nf] *",
   "language": "python",
   "name": "conda-env-nf-py"
  },
  "language_info": {
   "codemirror_mode": {
    "name": "ipython",
    "version": 3
   },
   "file_extension": ".py",
   "mimetype": "text/x-python",
   "name": "python",
   "nbconvert_exporter": "python",
   "pygments_lexer": "ipython3",
   "version": "3.6.10"
  },
  "toc": {
   "base_numbering": 1,
   "nav_menu": {},
   "number_sections": true,
   "sideBar": true,
   "skip_h1_title": false,
   "title_cell": "Table of Contents",
   "title_sidebar": "Contents",
   "toc_cell": false,
   "toc_position": {},
   "toc_section_display": true,
   "toc_window_display": false
  }
 },
 "nbformat": 4,
 "nbformat_minor": 4
}
